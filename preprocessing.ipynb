{
  "nbformat": 4,
  "nbformat_minor": 0,
  "metadata": {
    "colab": {
      "name": "Untitled31.ipynb",
      "provenance": [],
      "collapsed_sections": []
    },
    "kernelspec": {
      "display_name": "Python 3",
      "name": "python3"
    }
  },
  "cells": [
    {
      "cell_type": "markdown",
      "metadata": {
        "id": "npeo7qH0hvU9"
      },
      "source": [
        "Movie Recomendation:\r\n",
        " \r\n",
        "Data Used is from IMDB DATASET --> https://datasets.imdbws.com/\r\n",
        "IMDb Dataset Details --> https://datasets.imdbws.com/\r\n"
      ]
    },
    {
      "cell_type": "code",
      "metadata": {
        "colab": {
          "base_uri": "https://localhost:8080/"
        },
        "id": "lWZwZNnvhsOd",
        "outputId": "19f38af7-8f90-410d-cc3a-646914c675b8"
      },
      "source": [
        "!wget https://datasets.imdbws.com/name.basics.tsv.gz\r\n",
        "!wget https://datasets.imdbws.com/title.akas.tsv.gz\r\n",
        "!wget https://datasets.imdbws.com/title.crew.tsv.gz\r\n",
        "!wget https://datasets.imdbws.com/title.ratings.tsv.gz\r\n",
        "!wget https://datasets.imdbws.com/title.basics.tsv.gz"
      ],
      "execution_count": null,
      "outputs": [
        {
          "output_type": "stream",
          "text": [
            "--2021-01-03 02:37:12--  https://datasets.imdbws.com/name.basics.tsv.gz\n",
            "Resolving datasets.imdbws.com (datasets.imdbws.com)... 65.8.27.11, 65.8.27.36, 65.8.27.5, ...\n",
            "Connecting to datasets.imdbws.com (datasets.imdbws.com)|65.8.27.11|:443... connected.\n",
            "HTTP request sent, awaiting response... 200 OK\n",
            "Length: 206882917 (197M) [binary/octet-stream]\n",
            "Saving to: ‘name.basics.tsv.gz’\n",
            "\n",
            "name.basics.tsv.gz  100%[===================>] 197.30M  48.5MB/s    in 4.0s    \n",
            "\n",
            "2021-01-03 02:37:17 (49.0 MB/s) - ‘name.basics.tsv.gz’ saved [206882917/206882917]\n",
            "\n",
            "--2021-01-03 02:37:17--  https://datasets.imdbws.com/title.akas.tsv.gz\n",
            "Resolving datasets.imdbws.com (datasets.imdbws.com)... 65.8.27.11, 65.8.27.36, 65.8.27.5, ...\n",
            "Connecting to datasets.imdbws.com (datasets.imdbws.com)|65.8.27.11|:443... connected.\n",
            "HTTP request sent, awaiting response... 200 OK\n",
            "Length: 213942834 (204M) [binary/octet-stream]\n",
            "Saving to: ‘title.akas.tsv.gz’\n",
            "\n",
            "title.akas.tsv.gz   100%[===================>] 204.03M  57.5MB/s    in 3.7s    \n",
            "\n",
            "2021-01-03 02:37:21 (55.5 MB/s) - ‘title.akas.tsv.gz’ saved [213942834/213942834]\n",
            "\n",
            "--2021-01-03 02:37:21--  https://datasets.imdbws.com/title.crew.tsv.gz\n",
            "Resolving datasets.imdbws.com (datasets.imdbws.com)... 65.8.27.5, 65.8.27.36, 65.8.27.75, ...\n",
            "Connecting to datasets.imdbws.com (datasets.imdbws.com)|65.8.27.5|:443... connected.\n",
            "HTTP request sent, awaiting response... 200 OK\n",
            "Length: 52087688 (50M) [binary/octet-stream]\n",
            "Saving to: ‘title.crew.tsv.gz’\n",
            "\n",
            "title.crew.tsv.gz   100%[===================>]  49.67M  53.0MB/s    in 0.9s    \n",
            "\n",
            "2021-01-03 02:37:23 (53.0 MB/s) - ‘title.crew.tsv.gz’ saved [52087688/52087688]\n",
            "\n",
            "--2021-01-03 02:37:23--  https://datasets.imdbws.com/title.ratings.tsv.gz\n",
            "Resolving datasets.imdbws.com (datasets.imdbws.com)... 65.8.27.5, 65.8.27.36, 65.8.27.75, ...\n",
            "Connecting to datasets.imdbws.com (datasets.imdbws.com)|65.8.27.5|:443... connected.\n",
            "HTTP request sent, awaiting response... 200 OK\n",
            "Length: 5483212 (5.2M) [binary/octet-stream]\n",
            "Saving to: ‘title.ratings.tsv.gz’\n",
            "\n",
            "title.ratings.tsv.g 100%[===================>]   5.23M  24.2MB/s    in 0.2s    \n",
            "\n",
            "2021-01-03 02:37:24 (24.2 MB/s) - ‘title.ratings.tsv.gz’ saved [5483212/5483212]\n",
            "\n",
            "--2021-01-03 02:37:24--  https://datasets.imdbws.com/title.basics.tsv.gz\n",
            "Resolving datasets.imdbws.com (datasets.imdbws.com)... 65.8.27.5, 65.8.27.36, 65.8.27.75, ...\n",
            "Connecting to datasets.imdbws.com (datasets.imdbws.com)|65.8.27.5|:443... connected.\n",
            "HTTP request sent, awaiting response... 200 OK\n",
            "Length: 133149485 (127M) [binary/octet-stream]\n",
            "Saving to: ‘title.basics.tsv.gz’\n",
            "\n",
            "title.basics.tsv.gz 100%[===================>] 126.98M  49.6MB/s    in 2.6s    \n",
            "\n",
            "2021-01-03 02:37:27 (49.6 MB/s) - ‘title.basics.tsv.gz’ saved [133149485/133149485]\n",
            "\n"
          ],
          "name": "stdout"
        }
      ]
    },
    {
      "cell_type": "code",
      "metadata": {
        "colab": {
          "base_uri": "https://localhost:8080/"
        },
        "id": "L7kgawcUjUho",
        "outputId": "f66f1322-5c6a-4b18-a8cf-91f8c2cc2964"
      },
      "source": [
        "!ls"
      ],
      "execution_count": null,
      "outputs": [
        {
          "output_type": "stream",
          "text": [
            "name.basics.tsv  tamil_movies_imdb.csv\t       title.basics.tsv\n",
            "playlist.csv\t tamil_movies_sorted_imdb.csv  title.crew.tsv\n",
            "sample_data\t title.akas.tsv\t\t       title.ratings.tsv\n"
          ],
          "name": "stdout"
        }
      ]
    },
    {
      "cell_type": "code",
      "metadata": {
        "id": "V9ZvbSebjg2W"
      },
      "source": [
        "!gzip -d name.basics.tsv.gz\r\n",
        "!gzip -d title.akas.tsv.gz\r\n",
        "!gzip -d title.crew.tsv.gz\r\n",
        "!gzip -d title.ratings.tsv.gz\r\n",
        "!gzip -d title.basics.tsv.gz"
      ],
      "execution_count": null,
      "outputs": []
    },
    {
      "cell_type": "code",
      "metadata": {
        "colab": {
          "base_uri": "https://localhost:8080/"
        },
        "id": "qRx2QkfHjnLh",
        "outputId": "6919e011-8c95-4b12-a490-c763847cb904"
      },
      "source": [
        "ls -S"
      ],
      "execution_count": null,
      "outputs": [
        {
          "output_type": "stream",
          "text": [
            "title.akas.tsv    title.crew.tsv         tamil_movies_sorted_imdb.csv\n",
            "title.basics.tsv  title.ratings.tsv      playlist.csv\n",
            "name.basics.tsv   tamil_movies_imdb.csv  \u001b[0m\u001b[01;34msample_data\u001b[0m/\n"
          ],
          "name": "stdout"
        }
      ]
    },
    {
      "cell_type": "code",
      "metadata": {
        "colab": {
          "base_uri": "https://localhost:8080/"
        },
        "id": "XYOQc8WEkWWM",
        "outputId": "3e9de415-4c2f-4861-d611-5bdd81e8ecc9"
      },
      "source": [
        "!head title.akas.tsv"
      ],
      "execution_count": null,
      "outputs": [
        {
          "output_type": "stream",
          "text": [
            "titleId\tordering\ttitle\tregion\tlanguage\ttypes\tattributes\tisOriginalTitle\n",
            "tt0000001\t1\tКарменсіта\tUA\t\\N\timdbDisplay\t\\N\t0\n",
            "tt0000001\t2\tCarmencita\tDE\t\\N\t\\N\tliteral title\t0\n",
            "tt0000001\t3\tCarmencita - spanyol tánc\tHU\t\\N\timdbDisplay\t\\N\t0\n",
            "tt0000001\t4\tΚαρμενσίτα\tGR\t\\N\timdbDisplay\t\\N\t0\n",
            "tt0000001\t5\tКарменсита\tRU\t\\N\timdbDisplay\t\\N\t0\n",
            "tt0000001\t6\tCarmencita\tUS\t\\N\t\\N\t\\N\t0\n",
            "tt0000001\t7\tCarmencita\t\\N\t\\N\toriginal\t\\N\t1\n",
            "tt0000001\t8\tカルメンチータ\tJP\tja\timdbDisplay\t\\N\t0\n",
            "tt0000002\t1\tLe clown et ses chiens\t\\N\t\\N\toriginal\t\\N\t1\n"
          ],
          "name": "stdout"
        }
      ]
    },
    {
      "cell_type": "code",
      "metadata": {
        "id": "eNyZW4ELkmWq"
      },
      "source": [
        "import pandas as pd\r\n",
        "import numpy as np"
      ],
      "execution_count": null,
      "outputs": []
    },
    {
      "cell_type": "code",
      "metadata": {
        "colab": {
          "base_uri": "https://localhost:8080/",
          "height": 162
        },
        "id": "lL0boSd9H3Qv",
        "outputId": "47a6cc11-e091-4fea-9fc7-2cb43b61b40c"
      },
      "source": [
        "data=pd.read_csv('title.akas.tsv', sep='\\t', header=0)"
      ],
      "execution_count": null,
      "outputs": [
        {
          "output_type": "error",
          "ename": "NameError",
          "evalue": "ignored",
          "traceback": [
            "\u001b[0;31m---------------------------------------------------------------------------\u001b[0m",
            "\u001b[0;31mNameError\u001b[0m                                 Traceback (most recent call last)",
            "\u001b[0;32m<ipython-input-1-dfa354191255>\u001b[0m in \u001b[0;36m<module>\u001b[0;34m()\u001b[0m\n\u001b[0;32m----> 1\u001b[0;31m \u001b[0mdata\u001b[0m\u001b[0;34m=\u001b[0m\u001b[0mpd\u001b[0m\u001b[0;34m.\u001b[0m\u001b[0mread_csv\u001b[0m\u001b[0;34m(\u001b[0m\u001b[0;34m'title.akas.tsv'\u001b[0m\u001b[0;34m,\u001b[0m \u001b[0msep\u001b[0m\u001b[0;34m=\u001b[0m\u001b[0;34m'\\t'\u001b[0m\u001b[0;34m,\u001b[0m \u001b[0mheader\u001b[0m\u001b[0;34m=\u001b[0m\u001b[0;36m0\u001b[0m\u001b[0;34m)\u001b[0m\u001b[0;34m\u001b[0m\u001b[0;34m\u001b[0m\u001b[0m\n\u001b[0m",
            "\u001b[0;31mNameError\u001b[0m: name 'pd' is not defined"
          ]
        }
      ]
    },
    {
      "cell_type": "code",
      "metadata": {
        "colab": {
          "base_uri": "https://localhost:8080/",
          "height": 195
        },
        "id": "LaIud5qCJVuM",
        "outputId": "43a80658-8295-4d86-d77c-80a4184583e7"
      },
      "source": [
        "data.head()"
      ],
      "execution_count": null,
      "outputs": [
        {
          "output_type": "execute_result",
          "data": {
            "text/html": [
              "<div>\n",
              "<style scoped>\n",
              "    .dataframe tbody tr th:only-of-type {\n",
              "        vertical-align: middle;\n",
              "    }\n",
              "\n",
              "    .dataframe tbody tr th {\n",
              "        vertical-align: top;\n",
              "    }\n",
              "\n",
              "    .dataframe thead th {\n",
              "        text-align: right;\n",
              "    }\n",
              "</style>\n",
              "<table border=\"1\" class=\"dataframe\">\n",
              "  <thead>\n",
              "    <tr style=\"text-align: right;\">\n",
              "      <th></th>\n",
              "      <th>titleId</th>\n",
              "      <th>title</th>\n",
              "      <th>types</th>\n",
              "      <th>attributes</th>\n",
              "    </tr>\n",
              "  </thead>\n",
              "  <tbody>\n",
              "    <tr>\n",
              "      <th>129792</th>\n",
              "      <td>tt0029583</td>\n",
              "      <td>Sno Oyit Te cevan tvarhptsaic</td>\n",
              "      <td>alternative</td>\n",
              "      <td>\\N</td>\n",
              "    </tr>\n",
              "    <tr>\n",
              "      <th>479884</th>\n",
              "      <td>tt0070047</td>\n",
              "      <td>The Exorcist</td>\n",
              "      <td>imdbDisplay</td>\n",
              "      <td>\\N</td>\n",
              "    </tr>\n",
              "    <tr>\n",
              "      <th>506078</th>\n",
              "      <td>tt0073195</td>\n",
              "      <td>Jaws</td>\n",
              "      <td>imdbDisplay</td>\n",
              "      <td>\\N</td>\n",
              "    </tr>\n",
              "    <tr>\n",
              "      <th>527603</th>\n",
              "      <td>tt0075860</td>\n",
              "      <td>Munram Vakaiyana Cantippukalai Mutu</td>\n",
              "      <td>imdbDisplay</td>\n",
              "      <td>\\N</td>\n",
              "    </tr>\n",
              "    <tr>\n",
              "      <th>543715</th>\n",
              "      <td>tt0077760</td>\n",
              "      <td>Jagan Mohini</td>\n",
              "      <td>\\N</td>\n",
              "      <td>\\N</td>\n",
              "    </tr>\n",
              "  </tbody>\n",
              "</table>\n",
              "</div>"
            ],
            "text/plain": [
              "          titleId                                title        types attributes\n",
              "129792  tt0029583        Sno Oyit Te cevan tvarhptsaic  alternative         \\N\n",
              "479884  tt0070047                         The Exorcist  imdbDisplay         \\N\n",
              "506078  tt0073195                                 Jaws  imdbDisplay         \\N\n",
              "527603  tt0075860  Munram Vakaiyana Cantippukalai Mutu  imdbDisplay         \\N\n",
              "543715  tt0077760                         Jagan Mohini           \\N         \\N"
            ]
          },
          "metadata": {
            "tags": []
          },
          "execution_count": 156
        }
      ]
    },
    {
      "cell_type": "code",
      "metadata": {
        "id": "0j_5THLGJnjh",
        "colab": {
          "base_uri": "https://localhost:8080/",
          "height": 162
        },
        "outputId": "67c4d2fb-d0c3-4f01-c837-d090113e04f1"
      },
      "source": [
        "data=data[data['language']=='ta']"
      ],
      "execution_count": null,
      "outputs": [
        {
          "output_type": "error",
          "ename": "NameError",
          "evalue": "ignored",
          "traceback": [
            "\u001b[0;31m---------------------------------------------------------------------------\u001b[0m",
            "\u001b[0;31mNameError\u001b[0m                                 Traceback (most recent call last)",
            "\u001b[0;32m<ipython-input-12-94acf0d7b7a8>\u001b[0m in \u001b[0;36m<module>\u001b[0;34m()\u001b[0m\n\u001b[0;32m----> 1\u001b[0;31m \u001b[0mdata\u001b[0m\u001b[0;34m=\u001b[0m\u001b[0mdata\u001b[0m\u001b[0;34m[\u001b[0m\u001b[0mdata\u001b[0m\u001b[0;34m[\u001b[0m\u001b[0;34m'language'\u001b[0m\u001b[0;34m]\u001b[0m\u001b[0;34m==\u001b[0m\u001b[0;34m'ta'\u001b[0m\u001b[0;34m]\u001b[0m\u001b[0;34m\u001b[0m\u001b[0;34m\u001b[0m\u001b[0m\n\u001b[0m",
            "\u001b[0;31mNameError\u001b[0m: name 'data' is not defined"
          ]
        }
      ]
    },
    {
      "cell_type": "code",
      "metadata": {
        "colab": {
          "base_uri": "https://localhost:8080/",
          "height": 195
        },
        "id": "GlynqDP5J9T8",
        "outputId": "7352ea72-7c19-4001-a592-8e21a8bd9b41"
      },
      "source": [
        "data.head()"
      ],
      "execution_count": null,
      "outputs": [
        {
          "output_type": "execute_result",
          "data": {
            "text/html": [
              "<div>\n",
              "<style scoped>\n",
              "    .dataframe tbody tr th:only-of-type {\n",
              "        vertical-align: middle;\n",
              "    }\n",
              "\n",
              "    .dataframe tbody tr th {\n",
              "        vertical-align: top;\n",
              "    }\n",
              "\n",
              "    .dataframe thead th {\n",
              "        text-align: right;\n",
              "    }\n",
              "</style>\n",
              "<table border=\"1\" class=\"dataframe\">\n",
              "  <thead>\n",
              "    <tr style=\"text-align: right;\">\n",
              "      <th></th>\n",
              "      <th>titleId</th>\n",
              "      <th>title</th>\n",
              "      <th>types</th>\n",
              "      <th>attributes</th>\n",
              "    </tr>\n",
              "  </thead>\n",
              "  <tbody>\n",
              "    <tr>\n",
              "      <th>129792</th>\n",
              "      <td>tt0029583</td>\n",
              "      <td>Sno Oyit Te cevan tvarhptsaic</td>\n",
              "      <td>alternative</td>\n",
              "      <td>\\N</td>\n",
              "    </tr>\n",
              "    <tr>\n",
              "      <th>479884</th>\n",
              "      <td>tt0070047</td>\n",
              "      <td>The Exorcist</td>\n",
              "      <td>imdbDisplay</td>\n",
              "      <td>\\N</td>\n",
              "    </tr>\n",
              "    <tr>\n",
              "      <th>506078</th>\n",
              "      <td>tt0073195</td>\n",
              "      <td>Jaws</td>\n",
              "      <td>imdbDisplay</td>\n",
              "      <td>\\N</td>\n",
              "    </tr>\n",
              "    <tr>\n",
              "      <th>527603</th>\n",
              "      <td>tt0075860</td>\n",
              "      <td>Munram Vakaiyana Cantippukalai Mutu</td>\n",
              "      <td>imdbDisplay</td>\n",
              "      <td>\\N</td>\n",
              "    </tr>\n",
              "    <tr>\n",
              "      <th>543715</th>\n",
              "      <td>tt0077760</td>\n",
              "      <td>Jagan Mohini</td>\n",
              "      <td>\\N</td>\n",
              "      <td>\\N</td>\n",
              "    </tr>\n",
              "  </tbody>\n",
              "</table>\n",
              "</div>"
            ],
            "text/plain": [
              "          titleId                                title        types attributes\n",
              "129792  tt0029583        Sno Oyit Te cevan tvarhptsaic  alternative         \\N\n",
              "479884  tt0070047                         The Exorcist  imdbDisplay         \\N\n",
              "506078  tt0073195                                 Jaws  imdbDisplay         \\N\n",
              "527603  tt0075860  Munram Vakaiyana Cantippukalai Mutu  imdbDisplay         \\N\n",
              "543715  tt0077760                         Jagan Mohini           \\N         \\N"
            ]
          },
          "metadata": {
            "tags": []
          },
          "execution_count": 157
        }
      ]
    },
    {
      "cell_type": "code",
      "metadata": {
        "id": "GlczGC2MKILW",
        "colab": {
          "base_uri": "https://localhost:8080/",
          "height": 162
        },
        "outputId": "9f5137e8-e9b4-4621-ce77-3bc6cd4e6f9f"
      },
      "source": [
        "data=data[data['attributes']!='dubbed version']"
      ],
      "execution_count": null,
      "outputs": [
        {
          "output_type": "error",
          "ename": "NameError",
          "evalue": "ignored",
          "traceback": [
            "\u001b[0;31m---------------------------------------------------------------------------\u001b[0m",
            "\u001b[0;31mNameError\u001b[0m                                 Traceback (most recent call last)",
            "\u001b[0;32m<ipython-input-13-adb9248fbce5>\u001b[0m in \u001b[0;36m<module>\u001b[0;34m()\u001b[0m\n\u001b[0;32m----> 1\u001b[0;31m \u001b[0mdata\u001b[0m\u001b[0;34m=\u001b[0m\u001b[0mdata\u001b[0m\u001b[0;34m[\u001b[0m\u001b[0mdata\u001b[0m\u001b[0;34m[\u001b[0m\u001b[0;34m'attributes'\u001b[0m\u001b[0;34m]\u001b[0m\u001b[0;34m!=\u001b[0m\u001b[0;34m'dubbed version'\u001b[0m\u001b[0;34m]\u001b[0m\u001b[0;34m\u001b[0m\u001b[0;34m\u001b[0m\u001b[0m\n\u001b[0m",
            "\u001b[0;31mNameError\u001b[0m: name 'data' is not defined"
          ]
        }
      ]
    },
    {
      "cell_type": "code",
      "metadata": {
        "colab": {
          "base_uri": "https://localhost:8080/",
          "height": 195
        },
        "id": "QxAm1bXfKXYR",
        "outputId": "f704831e-df4b-4605-bc54-7dc7fc120e3e"
      },
      "source": [
        "data.head()"
      ],
      "execution_count": null,
      "outputs": [
        {
          "output_type": "execute_result",
          "data": {
            "text/html": [
              "<div>\n",
              "<style scoped>\n",
              "    .dataframe tbody tr th:only-of-type {\n",
              "        vertical-align: middle;\n",
              "    }\n",
              "\n",
              "    .dataframe tbody tr th {\n",
              "        vertical-align: top;\n",
              "    }\n",
              "\n",
              "    .dataframe thead th {\n",
              "        text-align: right;\n",
              "    }\n",
              "</style>\n",
              "<table border=\"1\" class=\"dataframe\">\n",
              "  <thead>\n",
              "    <tr style=\"text-align: right;\">\n",
              "      <th></th>\n",
              "      <th>titleId</th>\n",
              "      <th>title</th>\n",
              "      <th>types</th>\n",
              "      <th>attributes</th>\n",
              "    </tr>\n",
              "  </thead>\n",
              "  <tbody>\n",
              "    <tr>\n",
              "      <th>129792</th>\n",
              "      <td>tt0029583</td>\n",
              "      <td>Sno Oyit Te cevan tvarhptsaic</td>\n",
              "      <td>alternative</td>\n",
              "      <td>\\N</td>\n",
              "    </tr>\n",
              "    <tr>\n",
              "      <th>479884</th>\n",
              "      <td>tt0070047</td>\n",
              "      <td>The Exorcist</td>\n",
              "      <td>imdbDisplay</td>\n",
              "      <td>\\N</td>\n",
              "    </tr>\n",
              "    <tr>\n",
              "      <th>506078</th>\n",
              "      <td>tt0073195</td>\n",
              "      <td>Jaws</td>\n",
              "      <td>imdbDisplay</td>\n",
              "      <td>\\N</td>\n",
              "    </tr>\n",
              "    <tr>\n",
              "      <th>527603</th>\n",
              "      <td>tt0075860</td>\n",
              "      <td>Munram Vakaiyana Cantippukalai Mutu</td>\n",
              "      <td>imdbDisplay</td>\n",
              "      <td>\\N</td>\n",
              "    </tr>\n",
              "    <tr>\n",
              "      <th>543715</th>\n",
              "      <td>tt0077760</td>\n",
              "      <td>Jagan Mohini</td>\n",
              "      <td>\\N</td>\n",
              "      <td>\\N</td>\n",
              "    </tr>\n",
              "  </tbody>\n",
              "</table>\n",
              "</div>"
            ],
            "text/plain": [
              "          titleId                                title        types attributes\n",
              "129792  tt0029583        Sno Oyit Te cevan tvarhptsaic  alternative         \\N\n",
              "479884  tt0070047                         The Exorcist  imdbDisplay         \\N\n",
              "506078  tt0073195                                 Jaws  imdbDisplay         \\N\n",
              "527603  tt0075860  Munram Vakaiyana Cantippukalai Mutu  imdbDisplay         \\N\n",
              "543715  tt0077760                         Jagan Mohini           \\N         \\N"
            ]
          },
          "metadata": {
            "tags": []
          },
          "execution_count": 158
        }
      ]
    },
    {
      "cell_type": "code",
      "metadata": {
        "colab": {
          "base_uri": "https://localhost:8080/",
          "height": 162
        },
        "id": "aRm1qRZVKYtE",
        "outputId": "c8674f4f-ba28-4098-8669-cabac9821339"
      },
      "source": [
        "len(data)"
      ],
      "execution_count": null,
      "outputs": [
        {
          "output_type": "error",
          "ename": "NameError",
          "evalue": "ignored",
          "traceback": [
            "\u001b[0;31m---------------------------------------------------------------------------\u001b[0m",
            "\u001b[0;31mNameError\u001b[0m                                 Traceback (most recent call last)",
            "\u001b[0;32m<ipython-input-5-c6201f8cef64>\u001b[0m in \u001b[0;36m<module>\u001b[0;34m()\u001b[0m\n\u001b[0;32m----> 1\u001b[0;31m \u001b[0mlen\u001b[0m\u001b[0;34m(\u001b[0m\u001b[0mdata\u001b[0m\u001b[0;34m)\u001b[0m\u001b[0;34m\u001b[0m\u001b[0;34m\u001b[0m\u001b[0m\n\u001b[0m",
            "\u001b[0;31mNameError\u001b[0m: name 'data' is not defined"
          ]
        }
      ]
    },
    {
      "cell_type": "code",
      "metadata": {
        "colab": {
          "base_uri": "https://localhost:8080/",
          "height": 555
        },
        "id": "EisbptCgKb9z",
        "outputId": "69c68e5a-457c-47a3-d016-dd5dfd9445dc"
      },
      "source": [
        "data[data['ordering']==47]"
      ],
      "execution_count": null,
      "outputs": [
        {
          "output_type": "error",
          "ename": "KeyError",
          "evalue": "ignored",
          "traceback": [
            "\u001b[0;31m---------------------------------------------------------------------------\u001b[0m",
            "\u001b[0;31mKeyError\u001b[0m                                  Traceback (most recent call last)",
            "\u001b[0;32m/usr/local/lib/python3.6/dist-packages/pandas/core/indexes/base.py\u001b[0m in \u001b[0;36mget_loc\u001b[0;34m(self, key, method, tolerance)\u001b[0m\n\u001b[1;32m   2897\u001b[0m             \u001b[0;32mtry\u001b[0m\u001b[0;34m:\u001b[0m\u001b[0;34m\u001b[0m\u001b[0;34m\u001b[0m\u001b[0m\n\u001b[0;32m-> 2898\u001b[0;31m                 \u001b[0;32mreturn\u001b[0m \u001b[0mself\u001b[0m\u001b[0;34m.\u001b[0m\u001b[0m_engine\u001b[0m\u001b[0;34m.\u001b[0m\u001b[0mget_loc\u001b[0m\u001b[0;34m(\u001b[0m\u001b[0mcasted_key\u001b[0m\u001b[0;34m)\u001b[0m\u001b[0;34m\u001b[0m\u001b[0;34m\u001b[0m\u001b[0m\n\u001b[0m\u001b[1;32m   2899\u001b[0m             \u001b[0;32mexcept\u001b[0m \u001b[0mKeyError\u001b[0m \u001b[0;32mas\u001b[0m \u001b[0merr\u001b[0m\u001b[0;34m:\u001b[0m\u001b[0;34m\u001b[0m\u001b[0;34m\u001b[0m\u001b[0m\n",
            "\u001b[0;32mpandas/_libs/index.pyx\u001b[0m in \u001b[0;36mpandas._libs.index.IndexEngine.get_loc\u001b[0;34m()\u001b[0m\n",
            "\u001b[0;32mpandas/_libs/index.pyx\u001b[0m in \u001b[0;36mpandas._libs.index.IndexEngine.get_loc\u001b[0;34m()\u001b[0m\n",
            "\u001b[0;32mpandas/_libs/hashtable_class_helper.pxi\u001b[0m in \u001b[0;36mpandas._libs.hashtable.PyObjectHashTable.get_item\u001b[0;34m()\u001b[0m\n",
            "\u001b[0;32mpandas/_libs/hashtable_class_helper.pxi\u001b[0m in \u001b[0;36mpandas._libs.hashtable.PyObjectHashTable.get_item\u001b[0;34m()\u001b[0m\n",
            "\u001b[0;31mKeyError\u001b[0m: 'ordering'",
            "\nThe above exception was the direct cause of the following exception:\n",
            "\u001b[0;31mKeyError\u001b[0m                                  Traceback (most recent call last)",
            "\u001b[0;32m<ipython-input-159-85ee12d81944>\u001b[0m in \u001b[0;36m<module>\u001b[0;34m()\u001b[0m\n\u001b[0;32m----> 1\u001b[0;31m \u001b[0mdata\u001b[0m\u001b[0;34m[\u001b[0m\u001b[0mdata\u001b[0m\u001b[0;34m[\u001b[0m\u001b[0;34m'ordering'\u001b[0m\u001b[0;34m]\u001b[0m\u001b[0;34m==\u001b[0m\u001b[0;36m47\u001b[0m\u001b[0;34m]\u001b[0m\u001b[0;34m\u001b[0m\u001b[0;34m\u001b[0m\u001b[0m\n\u001b[0m",
            "\u001b[0;32m/usr/local/lib/python3.6/dist-packages/pandas/core/frame.py\u001b[0m in \u001b[0;36m__getitem__\u001b[0;34m(self, key)\u001b[0m\n\u001b[1;32m   2904\u001b[0m             \u001b[0;32mif\u001b[0m \u001b[0mself\u001b[0m\u001b[0;34m.\u001b[0m\u001b[0mcolumns\u001b[0m\u001b[0;34m.\u001b[0m\u001b[0mnlevels\u001b[0m \u001b[0;34m>\u001b[0m \u001b[0;36m1\u001b[0m\u001b[0;34m:\u001b[0m\u001b[0;34m\u001b[0m\u001b[0;34m\u001b[0m\u001b[0m\n\u001b[1;32m   2905\u001b[0m                 \u001b[0;32mreturn\u001b[0m \u001b[0mself\u001b[0m\u001b[0;34m.\u001b[0m\u001b[0m_getitem_multilevel\u001b[0m\u001b[0;34m(\u001b[0m\u001b[0mkey\u001b[0m\u001b[0;34m)\u001b[0m\u001b[0;34m\u001b[0m\u001b[0;34m\u001b[0m\u001b[0m\n\u001b[0;32m-> 2906\u001b[0;31m             \u001b[0mindexer\u001b[0m \u001b[0;34m=\u001b[0m \u001b[0mself\u001b[0m\u001b[0;34m.\u001b[0m\u001b[0mcolumns\u001b[0m\u001b[0;34m.\u001b[0m\u001b[0mget_loc\u001b[0m\u001b[0;34m(\u001b[0m\u001b[0mkey\u001b[0m\u001b[0;34m)\u001b[0m\u001b[0;34m\u001b[0m\u001b[0;34m\u001b[0m\u001b[0m\n\u001b[0m\u001b[1;32m   2907\u001b[0m             \u001b[0;32mif\u001b[0m \u001b[0mis_integer\u001b[0m\u001b[0;34m(\u001b[0m\u001b[0mindexer\u001b[0m\u001b[0;34m)\u001b[0m\u001b[0;34m:\u001b[0m\u001b[0;34m\u001b[0m\u001b[0;34m\u001b[0m\u001b[0m\n\u001b[1;32m   2908\u001b[0m                 \u001b[0mindexer\u001b[0m \u001b[0;34m=\u001b[0m \u001b[0;34m[\u001b[0m\u001b[0mindexer\u001b[0m\u001b[0;34m]\u001b[0m\u001b[0;34m\u001b[0m\u001b[0;34m\u001b[0m\u001b[0m\n",
            "\u001b[0;32m/usr/local/lib/python3.6/dist-packages/pandas/core/indexes/base.py\u001b[0m in \u001b[0;36mget_loc\u001b[0;34m(self, key, method, tolerance)\u001b[0m\n\u001b[1;32m   2898\u001b[0m                 \u001b[0;32mreturn\u001b[0m \u001b[0mself\u001b[0m\u001b[0;34m.\u001b[0m\u001b[0m_engine\u001b[0m\u001b[0;34m.\u001b[0m\u001b[0mget_loc\u001b[0m\u001b[0;34m(\u001b[0m\u001b[0mcasted_key\u001b[0m\u001b[0;34m)\u001b[0m\u001b[0;34m\u001b[0m\u001b[0;34m\u001b[0m\u001b[0m\n\u001b[1;32m   2899\u001b[0m             \u001b[0;32mexcept\u001b[0m \u001b[0mKeyError\u001b[0m \u001b[0;32mas\u001b[0m \u001b[0merr\u001b[0m\u001b[0;34m:\u001b[0m\u001b[0;34m\u001b[0m\u001b[0;34m\u001b[0m\u001b[0m\n\u001b[0;32m-> 2900\u001b[0;31m                 \u001b[0;32mraise\u001b[0m \u001b[0mKeyError\u001b[0m\u001b[0;34m(\u001b[0m\u001b[0mkey\u001b[0m\u001b[0;34m)\u001b[0m \u001b[0;32mfrom\u001b[0m \u001b[0merr\u001b[0m\u001b[0;34m\u001b[0m\u001b[0;34m\u001b[0m\u001b[0m\n\u001b[0m\u001b[1;32m   2901\u001b[0m \u001b[0;34m\u001b[0m\u001b[0m\n\u001b[1;32m   2902\u001b[0m         \u001b[0;32mif\u001b[0m \u001b[0mtolerance\u001b[0m \u001b[0;32mis\u001b[0m \u001b[0;32mnot\u001b[0m \u001b[0;32mNone\u001b[0m\u001b[0;34m:\u001b[0m\u001b[0;34m\u001b[0m\u001b[0;34m\u001b[0m\u001b[0m\n",
            "\u001b[0;31mKeyError\u001b[0m: 'ordering'"
          ]
        }
      ]
    },
    {
      "cell_type": "code",
      "metadata": {
        "id": "JXIaIzMgLcqE",
        "colab": {
          "base_uri": "https://localhost:8080/",
          "height": 162
        },
        "outputId": "0c03353a-a170-4d04-f5ec-f128cd0a7781"
      },
      "source": [
        "data.drop('ordering', inplace=True, axis=1)"
      ],
      "execution_count": null,
      "outputs": [
        {
          "output_type": "error",
          "ename": "NameError",
          "evalue": "ignored",
          "traceback": [
            "\u001b[0;31m---------------------------------------------------------------------------\u001b[0m",
            "\u001b[0;31mNameError\u001b[0m                                 Traceback (most recent call last)",
            "\u001b[0;32m<ipython-input-6-3d1c933d2a89>\u001b[0m in \u001b[0;36m<module>\u001b[0;34m()\u001b[0m\n\u001b[0;32m----> 1\u001b[0;31m \u001b[0mdata\u001b[0m\u001b[0;34m.\u001b[0m\u001b[0mdrop\u001b[0m\u001b[0;34m(\u001b[0m\u001b[0;34m'ordering'\u001b[0m\u001b[0;34m,\u001b[0m \u001b[0minplace\u001b[0m\u001b[0;34m=\u001b[0m\u001b[0;32mTrue\u001b[0m\u001b[0;34m,\u001b[0m \u001b[0maxis\u001b[0m\u001b[0;34m=\u001b[0m\u001b[0;36m1\u001b[0m\u001b[0;34m)\u001b[0m\u001b[0;34m\u001b[0m\u001b[0;34m\u001b[0m\u001b[0m\n\u001b[0m",
            "\u001b[0;31mNameError\u001b[0m: name 'data' is not defined"
          ]
        }
      ]
    },
    {
      "cell_type": "code",
      "metadata": {
        "colab": {
          "base_uri": "https://localhost:8080/",
          "height": 402
        },
        "id": "lHX3UJtUOP_R",
        "outputId": "cbf12eca-eb62-4903-d96c-baea61a5def6"
      },
      "source": [
        "data"
      ],
      "execution_count": null,
      "outputs": [
        {
          "output_type": "execute_result",
          "data": {
            "text/html": [
              "<div>\n",
              "<style scoped>\n",
              "    .dataframe tbody tr th:only-of-type {\n",
              "        vertical-align: middle;\n",
              "    }\n",
              "\n",
              "    .dataframe tbody tr th {\n",
              "        vertical-align: top;\n",
              "    }\n",
              "\n",
              "    .dataframe thead th {\n",
              "        text-align: right;\n",
              "    }\n",
              "</style>\n",
              "<table border=\"1\" class=\"dataframe\">\n",
              "  <thead>\n",
              "    <tr style=\"text-align: right;\">\n",
              "      <th></th>\n",
              "      <th>titleId</th>\n",
              "      <th>title</th>\n",
              "      <th>types</th>\n",
              "      <th>attributes</th>\n",
              "    </tr>\n",
              "  </thead>\n",
              "  <tbody>\n",
              "    <tr>\n",
              "      <th>129792</th>\n",
              "      <td>tt0029583</td>\n",
              "      <td>Sno Oyit Te cevan tvarhptsaic</td>\n",
              "      <td>alternative</td>\n",
              "      <td>\\N</td>\n",
              "    </tr>\n",
              "    <tr>\n",
              "      <th>479884</th>\n",
              "      <td>tt0070047</td>\n",
              "      <td>The Exorcist</td>\n",
              "      <td>imdbDisplay</td>\n",
              "      <td>\\N</td>\n",
              "    </tr>\n",
              "    <tr>\n",
              "      <th>506078</th>\n",
              "      <td>tt0073195</td>\n",
              "      <td>Jaws</td>\n",
              "      <td>imdbDisplay</td>\n",
              "      <td>\\N</td>\n",
              "    </tr>\n",
              "    <tr>\n",
              "      <th>527603</th>\n",
              "      <td>tt0075860</td>\n",
              "      <td>Munram Vakaiyana Cantippukalai Mutu</td>\n",
              "      <td>imdbDisplay</td>\n",
              "      <td>\\N</td>\n",
              "    </tr>\n",
              "    <tr>\n",
              "      <th>543715</th>\n",
              "      <td>tt0077760</td>\n",
              "      <td>Jagan Mohini</td>\n",
              "      <td>\\N</td>\n",
              "      <td>\\N</td>\n",
              "    </tr>\n",
              "    <tr>\n",
              "      <th>...</th>\n",
              "      <td>...</td>\n",
              "      <td>...</td>\n",
              "      <td>...</td>\n",
              "      <td>...</td>\n",
              "    </tr>\n",
              "    <tr>\n",
              "      <th>22221838</th>\n",
              "      <td>tt8517272</td>\n",
              "      <td>Ally</td>\n",
              "      <td>alternative</td>\n",
              "      <td>\\N</td>\n",
              "    </tr>\n",
              "    <tr>\n",
              "      <th>22236812</th>\n",
              "      <td>tt8526010</td>\n",
              "      <td>Sinamkol</td>\n",
              "      <td>\\N</td>\n",
              "      <td>complete title</td>\n",
              "    </tr>\n",
              "    <tr>\n",
              "      <th>23486688</th>\n",
              "      <td>tt9260636</td>\n",
              "      <td>Bigil</td>\n",
              "      <td>imdbDisplay</td>\n",
              "      <td>\\N</td>\n",
              "    </tr>\n",
              "    <tr>\n",
              "      <th>23645561</th>\n",
              "      <td>tt9343976</td>\n",
              "      <td>Perasai Perum Nashtam</td>\n",
              "      <td>alternative</td>\n",
              "      <td>\\N</td>\n",
              "    </tr>\n",
              "    <tr>\n",
              "      <th>24123375</th>\n",
              "      <td>tt9605894</td>\n",
              "      <td>Silence</td>\n",
              "      <td>imdbDisplay</td>\n",
              "      <td>\\N</td>\n",
              "    </tr>\n",
              "  </tbody>\n",
              "</table>\n",
              "<p>571 rows × 4 columns</p>\n",
              "</div>"
            ],
            "text/plain": [
              "            titleId  ...      attributes\n",
              "129792    tt0029583  ...              \\N\n",
              "479884    tt0070047  ...              \\N\n",
              "506078    tt0073195  ...              \\N\n",
              "527603    tt0075860  ...              \\N\n",
              "543715    tt0077760  ...              \\N\n",
              "...             ...  ...             ...\n",
              "22221838  tt8517272  ...              \\N\n",
              "22236812  tt8526010  ...  complete title\n",
              "23486688  tt9260636  ...              \\N\n",
              "23645561  tt9343976  ...              \\N\n",
              "24123375  tt9605894  ...              \\N\n",
              "\n",
              "[571 rows x 4 columns]"
            ]
          },
          "metadata": {
            "tags": []
          },
          "execution_count": 160
        }
      ]
    },
    {
      "cell_type": "code",
      "metadata": {
        "id": "99lxEiEHOQqd",
        "colab": {
          "base_uri": "https://localhost:8080/",
          "height": 162
        },
        "outputId": "768d0c43-a6ca-40c5-fd06-8ede4cbdf3ad"
      },
      "source": [
        "data.drop(['region','language','isOriginalTitle'], inplace=True, axis=1)"
      ],
      "execution_count": null,
      "outputs": [
        {
          "output_type": "error",
          "ename": "NameError",
          "evalue": "ignored",
          "traceback": [
            "\u001b[0;31m---------------------------------------------------------------------------\u001b[0m",
            "\u001b[0;31mNameError\u001b[0m                                 Traceback (most recent call last)",
            "\u001b[0;32m<ipython-input-7-959cb9158d75>\u001b[0m in \u001b[0;36m<module>\u001b[0;34m()\u001b[0m\n\u001b[0;32m----> 1\u001b[0;31m \u001b[0mdata\u001b[0m\u001b[0;34m.\u001b[0m\u001b[0mdrop\u001b[0m\u001b[0;34m(\u001b[0m\u001b[0;34m[\u001b[0m\u001b[0;34m'region'\u001b[0m\u001b[0;34m,\u001b[0m\u001b[0;34m'language'\u001b[0m\u001b[0;34m,\u001b[0m\u001b[0;34m'isOriginalTitle'\u001b[0m\u001b[0;34m]\u001b[0m\u001b[0;34m,\u001b[0m \u001b[0minplace\u001b[0m\u001b[0;34m=\u001b[0m\u001b[0;32mTrue\u001b[0m\u001b[0;34m,\u001b[0m \u001b[0maxis\u001b[0m\u001b[0;34m=\u001b[0m\u001b[0;36m1\u001b[0m\u001b[0;34m)\u001b[0m\u001b[0;34m\u001b[0m\u001b[0;34m\u001b[0m\u001b[0m\n\u001b[0m",
            "\u001b[0;31mNameError\u001b[0m: name 'data' is not defined"
          ]
        }
      ]
    },
    {
      "cell_type": "code",
      "metadata": {
        "colab": {
          "base_uri": "https://localhost:8080/",
          "height": 402
        },
        "id": "01w8xQ-5Ok-d",
        "outputId": "e20b7be5-4de8-47b9-bc42-3bc97a97f59c"
      },
      "source": [
        "data"
      ],
      "execution_count": null,
      "outputs": [
        {
          "output_type": "execute_result",
          "data": {
            "text/html": [
              "<div>\n",
              "<style scoped>\n",
              "    .dataframe tbody tr th:only-of-type {\n",
              "        vertical-align: middle;\n",
              "    }\n",
              "\n",
              "    .dataframe tbody tr th {\n",
              "        vertical-align: top;\n",
              "    }\n",
              "\n",
              "    .dataframe thead th {\n",
              "        text-align: right;\n",
              "    }\n",
              "</style>\n",
              "<table border=\"1\" class=\"dataframe\">\n",
              "  <thead>\n",
              "    <tr style=\"text-align: right;\">\n",
              "      <th></th>\n",
              "      <th>titleId</th>\n",
              "      <th>title</th>\n",
              "      <th>types</th>\n",
              "      <th>attributes</th>\n",
              "    </tr>\n",
              "  </thead>\n",
              "  <tbody>\n",
              "    <tr>\n",
              "      <th>129792</th>\n",
              "      <td>tt0029583</td>\n",
              "      <td>Sno Oyit Te cevan tvarhptsaic</td>\n",
              "      <td>alternative</td>\n",
              "      <td>\\N</td>\n",
              "    </tr>\n",
              "    <tr>\n",
              "      <th>479884</th>\n",
              "      <td>tt0070047</td>\n",
              "      <td>The Exorcist</td>\n",
              "      <td>imdbDisplay</td>\n",
              "      <td>\\N</td>\n",
              "    </tr>\n",
              "    <tr>\n",
              "      <th>506078</th>\n",
              "      <td>tt0073195</td>\n",
              "      <td>Jaws</td>\n",
              "      <td>imdbDisplay</td>\n",
              "      <td>\\N</td>\n",
              "    </tr>\n",
              "    <tr>\n",
              "      <th>527603</th>\n",
              "      <td>tt0075860</td>\n",
              "      <td>Munram Vakaiyana Cantippukalai Mutu</td>\n",
              "      <td>imdbDisplay</td>\n",
              "      <td>\\N</td>\n",
              "    </tr>\n",
              "    <tr>\n",
              "      <th>543715</th>\n",
              "      <td>tt0077760</td>\n",
              "      <td>Jagan Mohini</td>\n",
              "      <td>\\N</td>\n",
              "      <td>\\N</td>\n",
              "    </tr>\n",
              "    <tr>\n",
              "      <th>...</th>\n",
              "      <td>...</td>\n",
              "      <td>...</td>\n",
              "      <td>...</td>\n",
              "      <td>...</td>\n",
              "    </tr>\n",
              "    <tr>\n",
              "      <th>22221838</th>\n",
              "      <td>tt8517272</td>\n",
              "      <td>Ally</td>\n",
              "      <td>alternative</td>\n",
              "      <td>\\N</td>\n",
              "    </tr>\n",
              "    <tr>\n",
              "      <th>22236812</th>\n",
              "      <td>tt8526010</td>\n",
              "      <td>Sinamkol</td>\n",
              "      <td>\\N</td>\n",
              "      <td>complete title</td>\n",
              "    </tr>\n",
              "    <tr>\n",
              "      <th>23486688</th>\n",
              "      <td>tt9260636</td>\n",
              "      <td>Bigil</td>\n",
              "      <td>imdbDisplay</td>\n",
              "      <td>\\N</td>\n",
              "    </tr>\n",
              "    <tr>\n",
              "      <th>23645561</th>\n",
              "      <td>tt9343976</td>\n",
              "      <td>Perasai Perum Nashtam</td>\n",
              "      <td>alternative</td>\n",
              "      <td>\\N</td>\n",
              "    </tr>\n",
              "    <tr>\n",
              "      <th>24123375</th>\n",
              "      <td>tt9605894</td>\n",
              "      <td>Silence</td>\n",
              "      <td>imdbDisplay</td>\n",
              "      <td>\\N</td>\n",
              "    </tr>\n",
              "  </tbody>\n",
              "</table>\n",
              "<p>571 rows × 4 columns</p>\n",
              "</div>"
            ],
            "text/plain": [
              "            titleId  ...      attributes\n",
              "129792    tt0029583  ...              \\N\n",
              "479884    tt0070047  ...              \\N\n",
              "506078    tt0073195  ...              \\N\n",
              "527603    tt0075860  ...              \\N\n",
              "543715    tt0077760  ...              \\N\n",
              "...             ...  ...             ...\n",
              "22221838  tt8517272  ...              \\N\n",
              "22236812  tt8526010  ...  complete title\n",
              "23486688  tt9260636  ...              \\N\n",
              "23645561  tt9343976  ...              \\N\n",
              "24123375  tt9605894  ...              \\N\n",
              "\n",
              "[571 rows x 4 columns]"
            ]
          },
          "metadata": {
            "tags": []
          },
          "execution_count": 161
        }
      ]
    },
    {
      "cell_type": "code",
      "metadata": {
        "id": "hu0y5O7NOlsL"
      },
      "source": [
        "!ls"
      ],
      "execution_count": null,
      "outputs": []
    },
    {
      "cell_type": "code",
      "metadata": {
        "id": "ezPLBBtePgAm"
      },
      "source": [
        "rating=pd.read_csv('title.ratings.tsv', sep='\\t', header=0)"
      ],
      "execution_count": null,
      "outputs": []
    },
    {
      "cell_type": "code",
      "metadata": {
        "id": "cW2Wa7CYPssl"
      },
      "source": [
        "data"
      ],
      "execution_count": null,
      "outputs": []
    },
    {
      "cell_type": "code",
      "metadata": {
        "colab": {
          "base_uri": "https://localhost:8080/",
          "height": 402
        },
        "id": "OQhTJ5vzRvM4",
        "outputId": "f9c946f8-ba7a-4b90-9eac-e77b63aece95"
      },
      "source": [
        "rating"
      ],
      "execution_count": null,
      "outputs": [
        {
          "output_type": "execute_result",
          "data": {
            "text/html": [
              "<div>\n",
              "<style scoped>\n",
              "    .dataframe tbody tr th:only-of-type {\n",
              "        vertical-align: middle;\n",
              "    }\n",
              "\n",
              "    .dataframe tbody tr th {\n",
              "        vertical-align: top;\n",
              "    }\n",
              "\n",
              "    .dataframe thead th {\n",
              "        text-align: right;\n",
              "    }\n",
              "</style>\n",
              "<table border=\"1\" class=\"dataframe\">\n",
              "  <thead>\n",
              "    <tr style=\"text-align: right;\">\n",
              "      <th></th>\n",
              "      <th>tconst</th>\n",
              "      <th>averageRating</th>\n",
              "      <th>numVotes</th>\n",
              "    </tr>\n",
              "  </thead>\n",
              "  <tbody>\n",
              "    <tr>\n",
              "      <th>0</th>\n",
              "      <td>tt0000001</td>\n",
              "      <td>5.7</td>\n",
              "      <td>1669</td>\n",
              "    </tr>\n",
              "    <tr>\n",
              "      <th>1</th>\n",
              "      <td>tt0000002</td>\n",
              "      <td>6.1</td>\n",
              "      <td>207</td>\n",
              "    </tr>\n",
              "    <tr>\n",
              "      <th>2</th>\n",
              "      <td>tt0000003</td>\n",
              "      <td>6.5</td>\n",
              "      <td>1392</td>\n",
              "    </tr>\n",
              "    <tr>\n",
              "      <th>3</th>\n",
              "      <td>tt0000004</td>\n",
              "      <td>6.2</td>\n",
              "      <td>123</td>\n",
              "    </tr>\n",
              "    <tr>\n",
              "      <th>4</th>\n",
              "      <td>tt0000005</td>\n",
              "      <td>6.2</td>\n",
              "      <td>2181</td>\n",
              "    </tr>\n",
              "    <tr>\n",
              "      <th>...</th>\n",
              "      <td>...</td>\n",
              "      <td>...</td>\n",
              "      <td>...</td>\n",
              "    </tr>\n",
              "    <tr>\n",
              "      <th>1108313</th>\n",
              "      <td>tt9916580</td>\n",
              "      <td>7.2</td>\n",
              "      <td>5</td>\n",
              "    </tr>\n",
              "    <tr>\n",
              "      <th>1108314</th>\n",
              "      <td>tt9916690</td>\n",
              "      <td>6.6</td>\n",
              "      <td>5</td>\n",
              "    </tr>\n",
              "    <tr>\n",
              "      <th>1108315</th>\n",
              "      <td>tt9916720</td>\n",
              "      <td>6.1</td>\n",
              "      <td>68</td>\n",
              "    </tr>\n",
              "    <tr>\n",
              "      <th>1108316</th>\n",
              "      <td>tt9916766</td>\n",
              "      <td>6.9</td>\n",
              "      <td>15</td>\n",
              "    </tr>\n",
              "    <tr>\n",
              "      <th>1108317</th>\n",
              "      <td>tt9916778</td>\n",
              "      <td>7.5</td>\n",
              "      <td>27</td>\n",
              "    </tr>\n",
              "  </tbody>\n",
              "</table>\n",
              "<p>1108318 rows × 3 columns</p>\n",
              "</div>"
            ],
            "text/plain": [
              "            tconst  averageRating  numVotes\n",
              "0        tt0000001            5.7      1669\n",
              "1        tt0000002            6.1       207\n",
              "2        tt0000003            6.5      1392\n",
              "3        tt0000004            6.2       123\n",
              "4        tt0000005            6.2      2181\n",
              "...            ...            ...       ...\n",
              "1108313  tt9916580            7.2         5\n",
              "1108314  tt9916690            6.6         5\n",
              "1108315  tt9916720            6.1        68\n",
              "1108316  tt9916766            6.9        15\n",
              "1108317  tt9916778            7.5        27\n",
              "\n",
              "[1108318 rows x 3 columns]"
            ]
          },
          "metadata": {
            "tags": []
          },
          "execution_count": 163
        }
      ]
    },
    {
      "cell_type": "code",
      "metadata": {
        "id": "upawctU5gm7v",
        "colab": {
          "base_uri": "https://localhost:8080/",
          "height": 162
        },
        "outputId": "b1b27f43-f815-41c8-dce3-e021482cb8c2"
      },
      "source": [
        "rating=rating.rename(columns={'tconst':'titleId','averageRating':'averageRating','numVotes':'numVotes'})"
      ],
      "execution_count": null,
      "outputs": [
        {
          "output_type": "error",
          "ename": "NameError",
          "evalue": "ignored",
          "traceback": [
            "\u001b[0;31m---------------------------------------------------------------------------\u001b[0m",
            "\u001b[0;31mNameError\u001b[0m                                 Traceback (most recent call last)",
            "\u001b[0;32m<ipython-input-8-322d7e6257e1>\u001b[0m in \u001b[0;36m<module>\u001b[0;34m()\u001b[0m\n\u001b[0;32m----> 1\u001b[0;31m \u001b[0mrating\u001b[0m\u001b[0;34m=\u001b[0m\u001b[0mrating\u001b[0m\u001b[0;34m.\u001b[0m\u001b[0mrename\u001b[0m\u001b[0;34m(\u001b[0m\u001b[0mcolumns\u001b[0m\u001b[0;34m=\u001b[0m\u001b[0;34m{\u001b[0m\u001b[0;34m'tconst'\u001b[0m\u001b[0;34m:\u001b[0m\u001b[0;34m'titleId'\u001b[0m\u001b[0;34m,\u001b[0m\u001b[0;34m'averageRating'\u001b[0m\u001b[0;34m:\u001b[0m\u001b[0;34m'averageRating'\u001b[0m\u001b[0;34m,\u001b[0m\u001b[0;34m'numVotes'\u001b[0m\u001b[0;34m:\u001b[0m\u001b[0;34m'numVotes'\u001b[0m\u001b[0;34m}\u001b[0m\u001b[0;34m)\u001b[0m\u001b[0;34m\u001b[0m\u001b[0;34m\u001b[0m\u001b[0m\n\u001b[0m",
            "\u001b[0;31mNameError\u001b[0m: name 'rating' is not defined"
          ]
        }
      ]
    },
    {
      "cell_type": "code",
      "metadata": {
        "colab": {
          "base_uri": "https://localhost:8080/"
        },
        "id": "8n72aAASg1h-",
        "outputId": "24122b3d-2edd-4f87-b435-16affa6e8335"
      },
      "source": [
        "basic=pd.read_csv('title.basics.tsv',sep='\\t',header=0)"
      ],
      "execution_count": null,
      "outputs": [
        {
          "output_type": "stream",
          "text": [
            "/usr/local/lib/python3.6/dist-packages/IPython/core/interactiveshell.py:2718: DtypeWarning: Columns (4,5) have mixed types.Specify dtype option on import or set low_memory=False.\n",
            "  interactivity=interactivity, compiler=compiler, result=result)\n"
          ],
          "name": "stderr"
        }
      ]
    },
    {
      "cell_type": "code",
      "metadata": {
        "colab": {
          "base_uri": "https://localhost:8080/",
          "height": 162
        },
        "id": "173G_-3ohCDJ",
        "outputId": "abc1d23d-2d71-41ba-cb17-821eac91c507"
      },
      "source": [
        "basic.head()"
      ],
      "execution_count": null,
      "outputs": [
        {
          "output_type": "error",
          "ename": "NameError",
          "evalue": "ignored",
          "traceback": [
            "\u001b[0;31m---------------------------------------------------------------------------\u001b[0m",
            "\u001b[0;31mNameError\u001b[0m                                 Traceback (most recent call last)",
            "\u001b[0;32m<ipython-input-9-65f9f1c6731a>\u001b[0m in \u001b[0;36m<module>\u001b[0;34m()\u001b[0m\n\u001b[0;32m----> 1\u001b[0;31m \u001b[0mbasic\u001b[0m\u001b[0;34m.\u001b[0m\u001b[0mhead\u001b[0m\u001b[0;34m(\u001b[0m\u001b[0;34m)\u001b[0m\u001b[0;34m\u001b[0m\u001b[0;34m\u001b[0m\u001b[0m\n\u001b[0m",
            "\u001b[0;31mNameError\u001b[0m: name 'basic' is not defined"
          ]
        }
      ]
    },
    {
      "cell_type": "code",
      "metadata": {
        "id": "lPButJ9AhmKF"
      },
      "source": [
        "basic.drop(['titleType','primaryTitle','originalTitle','endYear'],inplace=True,axis=1)"
      ],
      "execution_count": null,
      "outputs": []
    },
    {
      "cell_type": "code",
      "metadata": {
        "id": "P7cAt3TPiG5_"
      },
      "source": [
        "basic.head()"
      ],
      "execution_count": null,
      "outputs": []
    },
    {
      "cell_type": "code",
      "metadata": {
        "id": "fU-vaa_kiNCC"
      },
      "source": [
        "basic.columns"
      ],
      "execution_count": null,
      "outputs": []
    },
    {
      "cell_type": "code",
      "metadata": {
        "id": "VF20rLjQiSOZ",
        "colab": {
          "base_uri": "https://localhost:8080/",
          "height": 162
        },
        "outputId": "52ae89f9-4277-43bf-cc76-086dc88a8003"
      },
      "source": [
        "basic=basic.rename(columns={'tconst':'titleId', 'isAdult':'isAdult', 'startYear': 'startYear', 'runtimeMinutes':'runtimeMinutes', 'genres':'genres'})"
      ],
      "execution_count": null,
      "outputs": [
        {
          "output_type": "error",
          "ename": "NameError",
          "evalue": "ignored",
          "traceback": [
            "\u001b[0;31m---------------------------------------------------------------------------\u001b[0m",
            "\u001b[0;31mNameError\u001b[0m                                 Traceback (most recent call last)",
            "\u001b[0;32m<ipython-input-10-3960b1195882>\u001b[0m in \u001b[0;36m<module>\u001b[0;34m()\u001b[0m\n\u001b[0;32m----> 1\u001b[0;31m \u001b[0mbasic\u001b[0m\u001b[0;34m=\u001b[0m\u001b[0mbasic\u001b[0m\u001b[0;34m.\u001b[0m\u001b[0mrename\u001b[0m\u001b[0;34m(\u001b[0m\u001b[0mcolumns\u001b[0m\u001b[0;34m=\u001b[0m\u001b[0;34m{\u001b[0m\u001b[0;34m'tconst'\u001b[0m\u001b[0;34m:\u001b[0m\u001b[0;34m'titleId'\u001b[0m\u001b[0;34m,\u001b[0m \u001b[0;34m'isAdult'\u001b[0m\u001b[0;34m:\u001b[0m\u001b[0;34m'isAdult'\u001b[0m\u001b[0;34m,\u001b[0m \u001b[0;34m'startYear'\u001b[0m\u001b[0;34m:\u001b[0m \u001b[0;34m'startYear'\u001b[0m\u001b[0;34m,\u001b[0m \u001b[0;34m'runtimeMinutes'\u001b[0m\u001b[0;34m:\u001b[0m\u001b[0;34m'runtimeMinutes'\u001b[0m\u001b[0;34m,\u001b[0m \u001b[0;34m'genres'\u001b[0m\u001b[0;34m:\u001b[0m\u001b[0;34m'genres'\u001b[0m\u001b[0;34m}\u001b[0m\u001b[0;34m)\u001b[0m\u001b[0;34m\u001b[0m\u001b[0;34m\u001b[0m\u001b[0m\n\u001b[0m",
            "\u001b[0;31mNameError\u001b[0m: name 'basic' is not defined"
          ]
        }
      ]
    },
    {
      "cell_type": "code",
      "metadata": {
        "id": "WIlqcyOyifP_"
      },
      "source": [
        "movies=data.merge(rating)"
      ],
      "execution_count": null,
      "outputs": []
    },
    {
      "cell_type": "code",
      "metadata": {
        "id": "9687m5_4iki2",
        "colab": {
          "base_uri": "https://localhost:8080/",
          "height": 162
        },
        "outputId": "971a8822-3e34-483d-d619-78db055c8405"
      },
      "source": [
        "movies=movies.merge(basic)"
      ],
      "execution_count": null,
      "outputs": [
        {
          "output_type": "error",
          "ename": "NameError",
          "evalue": "ignored",
          "traceback": [
            "\u001b[0;31m---------------------------------------------------------------------------\u001b[0m",
            "\u001b[0;31mNameError\u001b[0m                                 Traceback (most recent call last)",
            "\u001b[0;32m<ipython-input-11-cee98232c047>\u001b[0m in \u001b[0;36m<module>\u001b[0;34m()\u001b[0m\n\u001b[0;32m----> 1\u001b[0;31m \u001b[0mmovies\u001b[0m\u001b[0;34m=\u001b[0m\u001b[0mmovies\u001b[0m\u001b[0;34m.\u001b[0m\u001b[0mmerge\u001b[0m\u001b[0;34m(\u001b[0m\u001b[0mbasic\u001b[0m\u001b[0;34m)\u001b[0m\u001b[0;34m\u001b[0m\u001b[0;34m\u001b[0m\u001b[0m\n\u001b[0m",
            "\u001b[0;31mNameError\u001b[0m: name 'movies' is not defined"
          ]
        }
      ]
    },
    {
      "cell_type": "code",
      "metadata": {
        "id": "Kpd7eRqLiuKV"
      },
      "source": [
        "movies"
      ],
      "execution_count": null,
      "outputs": []
    },
    {
      "cell_type": "code",
      "metadata": {
        "id": "ul-5PQIRlGYx"
      },
      "source": [
        "movies.drop('attributes',inplace=True,axis=1)\r\n",
        "movies = movies.drop_duplicates(subset=['titleId'])"
      ],
      "execution_count": null,
      "outputs": []
    },
    {
      "cell_type": "code",
      "metadata": {
        "id": "CLjZekZmlYw7"
      },
      "source": [
        "movies"
      ],
      "execution_count": null,
      "outputs": []
    },
    {
      "cell_type": "code",
      "metadata": {
        "id": "oxAyd3iRi-Oc"
      },
      "source": [
        "movies.to_csv('tamil_movies_imdb.csv')"
      ],
      "execution_count": null,
      "outputs": []
    },
    {
      "cell_type": "code",
      "metadata": {
        "id": "ZkU7yT6Bjs2y"
      },
      "source": [
        "movies.sort_values(by='title').to_csv('tamil_movies_sorted_imdb.csv')"
      ],
      "execution_count": null,
      "outputs": []
    },
    {
      "cell_type": "code",
      "metadata": {
        "colab": {
          "base_uri": "https://localhost:8080/"
        },
        "id": "H7CaySXJj0FJ",
        "outputId": "025174d1-377c-4c6d-8d09-e1b625a6b936"
      },
      "source": [
        "movies.columns"
      ],
      "execution_count": null,
      "outputs": [
        {
          "output_type": "execute_result",
          "data": {
            "text/plain": [
              "Index(['titleId', 'title', 'types', 'averageRating', 'numVotes', 'isAdult',\n",
              "       'startYear', 'runtimeMinutes', 'genres'],\n",
              "      dtype='object')"
            ]
          },
          "metadata": {
            "tags": []
          },
          "execution_count": 84
        }
      ]
    },
    {
      "cell_type": "code",
      "metadata": {
        "id": "t7jKi9ab-aL1"
      },
      "source": [
        "my=pd.read_csv('playlist.csv',header=0)"
      ],
      "execution_count": null,
      "outputs": []
    },
    {
      "cell_type": "code",
      "metadata": {
        "colab": {
          "base_uri": "https://localhost:8080/",
          "height": 195
        },
        "id": "WfDmoqHcWLee",
        "outputId": "102d0f38-bacc-4214-9d6f-888a2fd05f57"
      },
      "source": [
        "my.head()"
      ],
      "execution_count": null,
      "outputs": [
        {
          "output_type": "execute_result",
          "data": {
            "text/html": [
              "<div>\n",
              "<style scoped>\n",
              "    .dataframe tbody tr th:only-of-type {\n",
              "        vertical-align: middle;\n",
              "    }\n",
              "\n",
              "    .dataframe tbody tr th {\n",
              "        vertical-align: top;\n",
              "    }\n",
              "\n",
              "    .dataframe thead th {\n",
              "        text-align: right;\n",
              "    }\n",
              "</style>\n",
              "<table border=\"1\" class=\"dataframe\">\n",
              "  <thead>\n",
              "    <tr style=\"text-align: right;\">\n",
              "      <th></th>\n",
              "      <th>titleId</th>\n",
              "      <th>title</th>\n",
              "      <th>types</th>\n",
              "      <th>averageRating</th>\n",
              "      <th>numVotes</th>\n",
              "      <th>isAdult</th>\n",
              "      <th>startYear</th>\n",
              "      <th>runtimeMinutes</th>\n",
              "      <th>genres</th>\n",
              "      <th>liked</th>\n",
              "    </tr>\n",
              "  </thead>\n",
              "  <tbody>\n",
              "    <tr>\n",
              "      <th>0</th>\n",
              "      <td>tt1512888</td>\n",
              "      <td>Aayirathil Oruvan</td>\n",
              "      <td>imdbDisplay</td>\n",
              "      <td>7.8</td>\n",
              "      <td>3595</td>\n",
              "      <td>0</td>\n",
              "      <td>2010</td>\n",
              "      <td>183</td>\n",
              "      <td>Action,Adventure</td>\n",
              "      <td>1</td>\n",
              "    </tr>\n",
              "    <tr>\n",
              "      <th>1</th>\n",
              "      <td>tt0324977</td>\n",
              "      <td>Allaudinum Arputha Vilakkum</td>\n",
              "      <td>alternative</td>\n",
              "      <td>6.6</td>\n",
              "      <td>160</td>\n",
              "      <td>0</td>\n",
              "      <td>1979</td>\n",
              "      <td>144</td>\n",
              "      <td>Adventure,Drama,Fantasy</td>\n",
              "      <td>1</td>\n",
              "    </tr>\n",
              "    <tr>\n",
              "      <th>2</th>\n",
              "      <td>tt1841504</td>\n",
              "      <td>Ambuli 3D</td>\n",
              "      <td>\\N</td>\n",
              "      <td>5.4</td>\n",
              "      <td>216</td>\n",
              "      <td>0</td>\n",
              "      <td>2012</td>\n",
              "      <td>139</td>\n",
              "      <td>Action,Drama,Sci-Fi</td>\n",
              "      <td>1</td>\n",
              "    </tr>\n",
              "    <tr>\n",
              "      <th>3</th>\n",
              "      <td>tt1365436</td>\n",
              "      <td>Ananda Thandavam</td>\n",
              "      <td>\\N</td>\n",
              "      <td>4.5</td>\n",
              "      <td>148</td>\n",
              "      <td>0</td>\n",
              "      <td>2009</td>\n",
              "      <td>150</td>\n",
              "      <td>Romance</td>\n",
              "      <td>1</td>\n",
              "    </tr>\n",
              "    <tr>\n",
              "      <th>4</th>\n",
              "      <td>tt0376127</td>\n",
              "      <td>Anniyan</td>\n",
              "      <td>imdbDisplay</td>\n",
              "      <td>8.2</td>\n",
              "      <td>14309</td>\n",
              "      <td>0</td>\n",
              "      <td>2005</td>\n",
              "      <td>181</td>\n",
              "      <td>Action,Drama,Thriller</td>\n",
              "      <td>1</td>\n",
              "    </tr>\n",
              "  </tbody>\n",
              "</table>\n",
              "</div>"
            ],
            "text/plain": [
              "     titleId                        title  ...                   genres  liked\n",
              "0  tt1512888            Aayirathil Oruvan  ...         Action,Adventure      1\n",
              "1  tt0324977  Allaudinum Arputha Vilakkum  ...  Adventure,Drama,Fantasy      1\n",
              "2  tt1841504                    Ambuli 3D  ...      Action,Drama,Sci-Fi      1\n",
              "3  tt1365436             Ananda Thandavam  ...                  Romance      1\n",
              "4  tt0376127                      Anniyan  ...    Action,Drama,Thriller      1\n",
              "\n",
              "[5 rows x 10 columns]"
            ]
          },
          "metadata": {
            "tags": []
          },
          "execution_count": 134
        }
      ]
    },
    {
      "cell_type": "code",
      "metadata": {
        "id": "HwQm22sMWNH6"
      },
      "source": [
        "my=my.sample(frac=1)"
      ],
      "execution_count": null,
      "outputs": []
    },
    {
      "cell_type": "code",
      "metadata": {
        "colab": {
          "base_uri": "https://localhost:8080/",
          "height": 195
        },
        "id": "m2qnOYDXWfZa",
        "outputId": "a1ed477c-e3b6-4380-80f5-ca2635de1306"
      },
      "source": [
        "my.head()"
      ],
      "execution_count": null,
      "outputs": [
        {
          "output_type": "execute_result",
          "data": {
            "text/html": [
              "<div>\n",
              "<style scoped>\n",
              "    .dataframe tbody tr th:only-of-type {\n",
              "        vertical-align: middle;\n",
              "    }\n",
              "\n",
              "    .dataframe tbody tr th {\n",
              "        vertical-align: top;\n",
              "    }\n",
              "\n",
              "    .dataframe thead th {\n",
              "        text-align: right;\n",
              "    }\n",
              "</style>\n",
              "<table border=\"1\" class=\"dataframe\">\n",
              "  <thead>\n",
              "    <tr style=\"text-align: right;\">\n",
              "      <th></th>\n",
              "      <th>titleId</th>\n",
              "      <th>title</th>\n",
              "      <th>types</th>\n",
              "      <th>averageRating</th>\n",
              "      <th>numVotes</th>\n",
              "      <th>isAdult</th>\n",
              "      <th>startYear</th>\n",
              "      <th>runtimeMinutes</th>\n",
              "      <th>genres</th>\n",
              "      <th>liked</th>\n",
              "    </tr>\n",
              "  </thead>\n",
              "  <tbody>\n",
              "    <tr>\n",
              "      <th>26</th>\n",
              "      <td>tt0385928</td>\n",
              "      <td>Panchathantiram</td>\n",
              "      <td>imdbDisplay</td>\n",
              "      <td>8.1</td>\n",
              "      <td>3069</td>\n",
              "      <td>0</td>\n",
              "      <td>2002</td>\n",
              "      <td>150</td>\n",
              "      <td>Comedy,Drama</td>\n",
              "      <td>1</td>\n",
              "    </tr>\n",
              "    <tr>\n",
              "      <th>18</th>\n",
              "      <td>tt0116630</td>\n",
              "      <td>Indian</td>\n",
              "      <td>imdbDisplay</td>\n",
              "      <td>8.1</td>\n",
              "      <td>10580</td>\n",
              "      <td>0</td>\n",
              "      <td>1996</td>\n",
              "      <td>185</td>\n",
              "      <td>Action,Drama,Thriller</td>\n",
              "      <td>1</td>\n",
              "    </tr>\n",
              "    <tr>\n",
              "      <th>43</th>\n",
              "      <td>tt3421036</td>\n",
              "      <td>Thirumanam Enum Nikkah</td>\n",
              "      <td>working</td>\n",
              "      <td>5.1</td>\n",
              "      <td>287</td>\n",
              "      <td>0</td>\n",
              "      <td>2014</td>\n",
              "      <td>133</td>\n",
              "      <td>Romance</td>\n",
              "      <td>1</td>\n",
              "    </tr>\n",
              "    <tr>\n",
              "      <th>55</th>\n",
              "      <td>tt4762826</td>\n",
              "      <td>Inimey Ippadithan</td>\n",
              "      <td>\\N</td>\n",
              "      <td>5.5</td>\n",
              "      <td>273</td>\n",
              "      <td>0</td>\n",
              "      <td>2015</td>\n",
              "      <td>134</td>\n",
              "      <td>Comedy,Romance</td>\n",
              "      <td>1</td>\n",
              "    </tr>\n",
              "    <tr>\n",
              "      <th>4</th>\n",
              "      <td>tt0376127</td>\n",
              "      <td>Anniyan</td>\n",
              "      <td>imdbDisplay</td>\n",
              "      <td>8.2</td>\n",
              "      <td>14309</td>\n",
              "      <td>0</td>\n",
              "      <td>2005</td>\n",
              "      <td>181</td>\n",
              "      <td>Action,Drama,Thriller</td>\n",
              "      <td>1</td>\n",
              "    </tr>\n",
              "  </tbody>\n",
              "</table>\n",
              "</div>"
            ],
            "text/plain": [
              "      titleId                   title  ...                 genres  liked\n",
              "26  tt0385928         Panchathantiram  ...           Comedy,Drama      1\n",
              "18  tt0116630                  Indian  ...  Action,Drama,Thriller      1\n",
              "43  tt3421036  Thirumanam Enum Nikkah  ...                Romance      1\n",
              "55  tt4762826       Inimey Ippadithan  ...         Comedy,Romance      1\n",
              "4   tt0376127                 Anniyan  ...  Action,Drama,Thriller      1\n",
              "\n",
              "[5 rows x 10 columns]"
            ]
          },
          "metadata": {
            "tags": []
          },
          "execution_count": 136
        }
      ]
    },
    {
      "cell_type": "code",
      "metadata": {
        "colab": {
          "base_uri": "https://localhost:8080/"
        },
        "id": "OfYpQc_jWgq_",
        "outputId": "b637a9ce-9b5c-43f9-b830-6aca2cb991e3"
      },
      "source": [
        "len(my)"
      ],
      "execution_count": null,
      "outputs": [
        {
          "output_type": "execute_result",
          "data": {
            "text/plain": [
              "74"
            ]
          },
          "metadata": {
            "tags": []
          },
          "execution_count": 137
        }
      ]
    },
    {
      "cell_type": "code",
      "metadata": {
        "colab": {
          "base_uri": "https://localhost:8080/"
        },
        "id": "kiUd3D7SWx0o",
        "outputId": "700f24f9-69c1-488c-a7fa-32eeca3f4f22"
      },
      "source": [
        "74*.7\r\n"
      ],
      "execution_count": null,
      "outputs": [
        {
          "output_type": "execute_result",
          "data": {
            "text/plain": [
              "51.8"
            ]
          },
          "metadata": {
            "tags": []
          },
          "execution_count": 138
        }
      ]
    },
    {
      "cell_type": "code",
      "metadata": {
        "id": "EmEXw1JsW482"
      },
      "source": [
        "x_train=[my['averageRating'][:51],my['numVotes'][:51],my['startYear'][:51],my['runtimeMinutes'][:51],my['genres'][:51]]"
      ],
      "execution_count": null,
      "outputs": []
    },
    {
      "cell_type": "code",
      "metadata": {
        "id": "VJnpLOwFXS_S"
      },
      "source": [
        "y_train=[my['liked']][:51]"
      ],
      "execution_count": null,
      "outputs": []
    },
    {
      "cell_type": "code",
      "metadata": {
        "id": "-DGkRC24XWd5"
      },
      "source": [
        "x_test=[my['averageRating'][51:],my['numVotes'][51:],my['startYear'][51:],my['runtimeMinutes'][51:],my['genres'][51:]]"
      ],
      "execution_count": null,
      "outputs": []
    },
    {
      "cell_type": "code",
      "metadata": {
        "id": "VqKXzZK7Xh0N"
      },
      "source": [
        "y_test=[my['liked']][51:]"
      ],
      "execution_count": null,
      "outputs": []
    },
    {
      "cell_type": "code",
      "metadata": {
        "id": "i_EMDxnZXnY4"
      },
      "source": [
        "import tensorflow as tf"
      ],
      "execution_count": null,
      "outputs": []
    },
    {
      "cell_type": "code",
      "metadata": {
        "id": "3nxQXJclYhTx"
      },
      "source": [
        "model=tf.keras.models.Sequential()"
      ],
      "execution_count": null,
      "outputs": []
    },
    {
      "cell_type": "code",
      "metadata": {
        "id": "0LU74m6nYxra"
      },
      "source": [
        "model.add(keras.layers)"
      ],
      "execution_count": null,
      "outputs": []
    },
    {
      "cell_type": "code",
      "metadata": {
        "colab": {
          "base_uri": "https://localhost:8080/",
          "height": 320
        },
        "id": "UXZQwHmKY29J",
        "outputId": "7d21e385-a5af-44e9-a003-c15088557fcb"
      },
      "source": [
        ""
      ],
      "execution_count": null,
      "outputs": [
        {
          "output_type": "error",
          "ename": "ValueError",
          "evalue": "ignored",
          "traceback": [
            "\u001b[0;31m---------------------------------------------------------------------------\u001b[0m",
            "\u001b[0;31mValueError\u001b[0m                                Traceback (most recent call last)",
            "\u001b[0;32m<ipython-input-146-b827a6aea6de>\u001b[0m in \u001b[0;36m<module>\u001b[0;34m()\u001b[0m\n\u001b[0;32m----> 1\u001b[0;31m \u001b[0mclassifier\u001b[0m\u001b[0;34m.\u001b[0m\u001b[0mfit\u001b[0m\u001b[0;34m(\u001b[0m\u001b[0mx_train\u001b[0m\u001b[0;34m,\u001b[0m\u001b[0my_train\u001b[0m\u001b[0;34m)\u001b[0m\u001b[0;34m\u001b[0m\u001b[0;34m\u001b[0m\u001b[0m\n\u001b[0m",
            "\u001b[0;32m/usr/local/lib/python3.6/dist-packages/sklearn/neighbors/_base.py\u001b[0m in \u001b[0;36mfit\u001b[0;34m(self, X, y)\u001b[0m\n\u001b[1;32m   1124\u001b[0m         \"\"\"\n\u001b[1;32m   1125\u001b[0m         \u001b[0;32mif\u001b[0m \u001b[0;32mnot\u001b[0m \u001b[0misinstance\u001b[0m\u001b[0;34m(\u001b[0m\u001b[0mX\u001b[0m\u001b[0;34m,\u001b[0m \u001b[0;34m(\u001b[0m\u001b[0mKDTree\u001b[0m\u001b[0;34m,\u001b[0m \u001b[0mBallTree\u001b[0m\u001b[0;34m)\u001b[0m\u001b[0;34m)\u001b[0m\u001b[0;34m:\u001b[0m\u001b[0;34m\u001b[0m\u001b[0;34m\u001b[0m\u001b[0m\n\u001b[0;32m-> 1126\u001b[0;31m             \u001b[0mX\u001b[0m\u001b[0;34m,\u001b[0m \u001b[0my\u001b[0m \u001b[0;34m=\u001b[0m \u001b[0mcheck_X_y\u001b[0m\u001b[0;34m(\u001b[0m\u001b[0mX\u001b[0m\u001b[0;34m,\u001b[0m \u001b[0my\u001b[0m\u001b[0;34m,\u001b[0m \u001b[0;34m\"csr\"\u001b[0m\u001b[0;34m,\u001b[0m \u001b[0mmulti_output\u001b[0m\u001b[0;34m=\u001b[0m\u001b[0;32mTrue\u001b[0m\u001b[0;34m)\u001b[0m\u001b[0;34m\u001b[0m\u001b[0;34m\u001b[0m\u001b[0m\n\u001b[0m\u001b[1;32m   1127\u001b[0m \u001b[0;34m\u001b[0m\u001b[0m\n\u001b[1;32m   1128\u001b[0m         \u001b[0;32mif\u001b[0m \u001b[0my\u001b[0m\u001b[0;34m.\u001b[0m\u001b[0mndim\u001b[0m \u001b[0;34m==\u001b[0m \u001b[0;36m1\u001b[0m \u001b[0;32mor\u001b[0m \u001b[0my\u001b[0m\u001b[0;34m.\u001b[0m\u001b[0mndim\u001b[0m \u001b[0;34m==\u001b[0m \u001b[0;36m2\u001b[0m \u001b[0;32mand\u001b[0m \u001b[0my\u001b[0m\u001b[0;34m.\u001b[0m\u001b[0mshape\u001b[0m\u001b[0;34m[\u001b[0m\u001b[0;36m1\u001b[0m\u001b[0;34m]\u001b[0m \u001b[0;34m==\u001b[0m \u001b[0;36m1\u001b[0m\u001b[0;34m:\u001b[0m\u001b[0;34m\u001b[0m\u001b[0;34m\u001b[0m\u001b[0m\n",
            "\u001b[0;32m/usr/local/lib/python3.6/dist-packages/sklearn/utils/validation.py\u001b[0m in \u001b[0;36mcheck_X_y\u001b[0;34m(X, y, accept_sparse, accept_large_sparse, dtype, order, copy, force_all_finite, ensure_2d, allow_nd, multi_output, ensure_min_samples, ensure_min_features, y_numeric, warn_on_dtype, estimator)\u001b[0m\n\u001b[1;32m    753\u001b[0m                     \u001b[0mensure_min_features\u001b[0m\u001b[0;34m=\u001b[0m\u001b[0mensure_min_features\u001b[0m\u001b[0;34m,\u001b[0m\u001b[0;34m\u001b[0m\u001b[0;34m\u001b[0m\u001b[0m\n\u001b[1;32m    754\u001b[0m                     \u001b[0mwarn_on_dtype\u001b[0m\u001b[0;34m=\u001b[0m\u001b[0mwarn_on_dtype\u001b[0m\u001b[0;34m,\u001b[0m\u001b[0;34m\u001b[0m\u001b[0;34m\u001b[0m\u001b[0m\n\u001b[0;32m--> 755\u001b[0;31m                     estimator=estimator)\n\u001b[0m\u001b[1;32m    756\u001b[0m     \u001b[0;32mif\u001b[0m \u001b[0mmulti_output\u001b[0m\u001b[0;34m:\u001b[0m\u001b[0;34m\u001b[0m\u001b[0;34m\u001b[0m\u001b[0m\n\u001b[1;32m    757\u001b[0m         y = check_array(y, 'csr', force_all_finite=True, ensure_2d=False,\n",
            "\u001b[0;32m/usr/local/lib/python3.6/dist-packages/sklearn/utils/validation.py\u001b[0m in \u001b[0;36mcheck_array\u001b[0;34m(array, accept_sparse, accept_large_sparse, dtype, order, copy, force_all_finite, ensure_2d, allow_nd, ensure_min_samples, ensure_min_features, warn_on_dtype, estimator)\u001b[0m\n\u001b[1;32m    569\u001b[0m         \u001b[0;31m# make sure we actually converted to numeric:\u001b[0m\u001b[0;34m\u001b[0m\u001b[0;34m\u001b[0m\u001b[0;34m\u001b[0m\u001b[0m\n\u001b[1;32m    570\u001b[0m         \u001b[0;32mif\u001b[0m \u001b[0mdtype_numeric\u001b[0m \u001b[0;32mand\u001b[0m \u001b[0marray\u001b[0m\u001b[0;34m.\u001b[0m\u001b[0mdtype\u001b[0m\u001b[0;34m.\u001b[0m\u001b[0mkind\u001b[0m \u001b[0;34m==\u001b[0m \u001b[0;34m\"O\"\u001b[0m\u001b[0;34m:\u001b[0m\u001b[0;34m\u001b[0m\u001b[0;34m\u001b[0m\u001b[0m\n\u001b[0;32m--> 571\u001b[0;31m             \u001b[0marray\u001b[0m \u001b[0;34m=\u001b[0m \u001b[0marray\u001b[0m\u001b[0;34m.\u001b[0m\u001b[0mastype\u001b[0m\u001b[0;34m(\u001b[0m\u001b[0mnp\u001b[0m\u001b[0;34m.\u001b[0m\u001b[0mfloat64\u001b[0m\u001b[0;34m)\u001b[0m\u001b[0;34m\u001b[0m\u001b[0;34m\u001b[0m\u001b[0m\n\u001b[0m\u001b[1;32m    572\u001b[0m         \u001b[0;32mif\u001b[0m \u001b[0;32mnot\u001b[0m \u001b[0mallow_nd\u001b[0m \u001b[0;32mand\u001b[0m \u001b[0marray\u001b[0m\u001b[0;34m.\u001b[0m\u001b[0mndim\u001b[0m \u001b[0;34m>=\u001b[0m \u001b[0;36m3\u001b[0m\u001b[0;34m:\u001b[0m\u001b[0;34m\u001b[0m\u001b[0;34m\u001b[0m\u001b[0m\n\u001b[1;32m    573\u001b[0m             raise ValueError(\"Found array with dim %d. %s expected <= 2.\"\n",
            "\u001b[0;31mValueError\u001b[0m: could not convert string to float: 'Comedy,Drama'"
          ]
        }
      ]
    },
    {
      "cell_type": "code",
      "metadata": {
        "id": "mEKRg9u-Y7OO"
      },
      "source": [
        ""
      ],
      "execution_count": null,
      "outputs": []
    }
  ]
}